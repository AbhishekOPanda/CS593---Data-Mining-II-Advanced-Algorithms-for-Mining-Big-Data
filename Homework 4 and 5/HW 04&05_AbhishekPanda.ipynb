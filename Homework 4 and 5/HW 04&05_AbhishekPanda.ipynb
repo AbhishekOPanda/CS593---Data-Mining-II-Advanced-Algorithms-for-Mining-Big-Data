{
 "cells": [
  {
   "cell_type": "markdown",
   "id": "df7aa6a0",
   "metadata": {},
   "source": [
    "ABHISHEK PANDA\n",
    "10478684"
   ]
  },
  {
   "cell_type": "markdown",
   "id": "2c7b87bf",
   "metadata": {},
   "source": [
    "### 1-Open the baseball_100 data set. The dataset contains statistics for batters who have at least 100 at bats. We are interested in investigating whether there is a linear relationship between the number of times a player has been caught stealing bases and the number of stolen bases the player has. "
   ]
  },
  {
   "cell_type": "code",
   "execution_count": 1,
   "id": "c90f37b0",
   "metadata": {},
   "outputs": [],
   "source": [
    "import pandas as pd \n",
    "import numpy as np \n",
    "import matplotlib.pyplot as plt\n",
    "from statsmodels.formula.api import ols\n",
    "from scipy.stats.mstats import zscore"
   ]
  },
  {
   "cell_type": "code",
   "execution_count": 2,
   "id": "be795ef9",
   "metadata": {
    "scrolled": true
   },
   "outputs": [],
   "source": [
    "#load the dataset\n",
    "bb = pd.read_csv(\"Baseball_100.csv\")"
   ]
  },
  {
   "cell_type": "markdown",
   "id": "c5f190e3",
   "metadata": {},
   "source": [
    "1. Construct a scatter plot with ‘caught’ as the response. Is there evidence of a linear relationship? "
   ]
  },
  {
   "cell_type": "code",
   "execution_count": 3,
   "id": "792ef1d6",
   "metadata": {},
   "outputs": [
    {
     "data": {
      "text/plain": [
       "Text(0, 0.5, 'caught_stealing')"
      ]
     },
     "execution_count": 3,
     "metadata": {},
     "output_type": "execute_result"
    },
    {
     "data": {
      "image/png": "[encoded data removed]",
      "text/plain": [
       "<Figure size 432x288 with 1 Axes>"
      ]
     },
     "metadata": {
      "needs_background": "light"
     },
     "output_type": "display_data"
    }
   ],
   "source": [
    "x = bb.stolen_bases\n",
    "y = bb.caught_stealing\n",
    "plt.scatter(x,y)\n",
    "a, b = np.polyfit(x, y, 1)\n",
    "plt.plot(x, a*x+b, color = 'red')\n",
    "plt.xlabel(\"stolen_bases\")\n",
    "plt.ylabel(\"caught_stealing\")"
   ]
  },
  {
   "cell_type": "markdown",
   "id": "c4835b86",
   "metadata": {},
   "source": [
    "2. Based on the scatter plot, is a transformation to linearity called for? Why or why not?"
   ]
  },
  {
   "cell_type": "markdown",
   "id": "b8181010",
   "metadata": {},
   "source": [
    "stolen_bases and caught_stealing are linearly separable after plotting the regression line, so no transformation is needed."
   ]
  },
  {
   "cell_type": "markdown",
   "id": "61e6686a",
   "metadata": {},
   "source": [
    "3. Do not perform any transformation. Perform the regression of the number of times a player has been caught stealing bases versus the number of stolen bases the player has."
   ]
  },
  {
   "cell_type": "code",
   "execution_count": 4,
   "id": "24f5a538",
   "metadata": {},
   "outputs": [],
   "source": [
    "res = ols('caught_stealing  ~ stolen_bases', data=bb,).fit()"
   ]
  },
  {
   "cell_type": "markdown",
   "id": "6d2b4d90",
   "metadata": {},
   "source": [
    "4. Analyze the results. How good is the model? Why?"
   ]
  },
  {
   "cell_type": "code",
   "execution_count": 5,
   "id": "6f35ec7a",
   "metadata": {},
   "outputs": [
    {
     "name": "stdout",
     "output_type": "stream",
     "text": [
      "                            OLS Regression Results                            \n",
      "==============================================================================\n",
      "Dep. Variable:        caught_stealing   R-squared:                       0.490\n",
      "Model:                            OLS   Adj. R-squared:                  0.488\n",
      "Method:                 Least Squares   F-statistic:                     199.1\n",
      "Date:                Wed, 23 Mar 2022   Prob (F-statistic):           4.06e-32\n",
      "Time:                        20:15:30   Log-Likelihood:                -445.84\n",
      "No. Observations:                 209   AIC:                             895.7\n",
      "Df Residuals:                     207   BIC:                             902.4\n",
      "Df Model:                           1                                         \n",
      "Covariance Type:            nonrobust                                         \n",
      "================================================================================\n",
      "                   coef    std err          t      P>|t|      [0.025      0.975]\n",
      "--------------------------------------------------------------------------------\n",
      "Intercept        1.0986      0.177      6.216      0.000       0.750       1.447\n",
      "stolen_bases     0.2680      0.019     14.109      0.000       0.231       0.305\n",
      "==============================================================================\n",
      "Omnibus:                       45.293   Durbin-Watson:                   2.006\n",
      "Prob(Omnibus):                  0.000   Jarque-Bera (JB):               98.203\n",
      "Skew:                           1.010   Prob(JB):                     4.74e-22\n",
      "Kurtosis:                       5.682   Cond. No.                         11.6\n",
      "==============================================================================\n",
      "\n",
      "Notes:\n",
      "[1] Standard Errors assume that the covariance matrix of the errors is correctly specified.\n"
     ]
    }
   ],
   "source": [
    "print(res.summary())"
   ]
  },
  {
   "cell_type": "markdown",
   "id": "46a4f04d",
   "metadata": {},
   "source": [
    "This is a noteworthy model because the coef is high, p>|t| is zero, and the Adj. R-squared is also high."
   ]
  },
  {
   "cell_type": "markdown",
   "id": "d7f5f531",
   "metadata": {},
   "source": [
    "5. What is the confidence interval for predicting the number of times a player is caught stealing bases given his number of stolen bases? "
   ]
  },
  {
   "cell_type": "code",
   "execution_count": 6,
   "id": "5bd92e83",
   "metadata": {},
   "outputs": [
    {
     "name": "stdout",
     "output_type": "stream",
     "text": [
      "                     0         1\n",
      "Intercept     0.750188  1.447067\n",
      "stolen_bases  0.230584  0.305490\n"
     ]
    }
   ],
   "source": [
    "data = pd.DataFrame()\n",
    "data['parameter'] = res.params.index\n",
    "data['value'] = res.params.values\n",
    "data['probsh0'] = res.pvalues.values\n",
    "parm_table = data.sort_values(by='probsh0')\n",
    "print(res.conf_int())"
   ]
  },
  {
   "cell_type": "markdown",
   "id": "deae1574",
   "metadata": {},
   "source": [
    "6. What is the confidence interval for predicting the average number of times a player is caught stealing given his number of stolen bases? "
   ]
  },
  {
   "cell_type": "code",
   "execution_count": 7,
   "id": "9e2c5c0f",
   "metadata": {},
   "outputs": [
    {
     "name": "stdout",
     "output_type": "stream",
     "text": [
      "      parameter     value       probsh0\n",
      "1  stolen_bases  0.268037  4.057834e-32\n",
      "0     Intercept  1.098628  2.764152e-09\n"
     ]
    }
   ],
   "source": [
    "print(parm_table)"
   ]
  },
  {
   "cell_type": "code",
   "execution_count": 8,
   "id": "88766eaf",
   "metadata": {},
   "outputs": [
    {
     "data": {
      "text/html": [
       "<div>\n",
       "<style scoped>\n",
       "    .dataframe tbody tr th:only-of-type {\n",
       "        vertical-align: middle;\n",
       "    }\n",
       "\n",
       "    .dataframe tbody tr th {\n",
       "        vertical-align: top;\n",
       "    }\n",
       "\n",
       "    .dataframe thead th {\n",
       "        text-align: right;\n",
       "    }\n",
       "</style>\n",
       "<table border=\"1\" class=\"dataframe\">\n",
       "  <thead>\n",
       "    <tr style=\"text-align: right;\">\n",
       "      <th></th>\n",
       "      <th>cooks</th>\n",
       "      <th>leverage</th>\n",
       "    </tr>\n",
       "  </thead>\n",
       "  <tbody>\n",
       "    <tr>\n",
       "      <th>0</th>\n",
       "      <td>0.014093</td>\n",
       "      <td>0.112492</td>\n",
       "    </tr>\n",
       "    <tr>\n",
       "      <th>1</th>\n",
       "      <td>0.000566</td>\n",
       "      <td>0.004967</td>\n",
       "    </tr>\n",
       "    <tr>\n",
       "      <th>2</th>\n",
       "      <td>0.253487</td>\n",
       "      <td>0.060308</td>\n",
       "    </tr>\n",
       "    <tr>\n",
       "      <th>3</th>\n",
       "      <td>0.391577</td>\n",
       "      <td>0.064756</td>\n",
       "    </tr>\n",
       "    <tr>\n",
       "      <th>4</th>\n",
       "      <td>0.000962</td>\n",
       "      <td>0.004803</td>\n",
       "    </tr>\n",
       "    <tr>\n",
       "      <th>...</th>\n",
       "      <td>...</td>\n",
       "      <td>...</td>\n",
       "    </tr>\n",
       "    <tr>\n",
       "      <th>204</th>\n",
       "      <td>0.000283</td>\n",
       "      <td>0.005859</td>\n",
       "    </tr>\n",
       "    <tr>\n",
       "      <th>205</th>\n",
       "      <td>0.000006</td>\n",
       "      <td>0.005338</td>\n",
       "    </tr>\n",
       "    <tr>\n",
       "      <th>206</th>\n",
       "      <td>0.000106</td>\n",
       "      <td>0.006551</td>\n",
       "    </tr>\n",
       "    <tr>\n",
       "      <th>207</th>\n",
       "      <td>0.001880</td>\n",
       "      <td>0.005859</td>\n",
       "    </tr>\n",
       "    <tr>\n",
       "      <th>208</th>\n",
       "      <td>0.000094</td>\n",
       "      <td>0.005859</td>\n",
       "    </tr>\n",
       "  </tbody>\n",
       "</table>\n",
       "<p>209 rows × 2 columns</p>\n",
       "</div>"
      ],
      "text/plain": [
       "        cooks  leverage\n",
       "0    0.014093  0.112492\n",
       "1    0.000566  0.004967\n",
       "2    0.253487  0.060308\n",
       "3    0.391577  0.064756\n",
       "4    0.000962  0.004803\n",
       "..        ...       ...\n",
       "204  0.000283  0.005859\n",
       "205  0.000006  0.005338\n",
       "206  0.000106  0.006551\n",
       "207  0.001880  0.005859\n",
       "208  0.000094  0.005859\n",
       "\n",
       "[209 rows x 2 columns]"
      ]
     },
     "execution_count": 8,
     "metadata": {},
     "output_type": "execute_result"
    }
   ],
   "source": [
    "infl=res.get_influence()\n",
    "cooks, p = infl.cooks_distance\n",
    "leverage = infl.hat_matrix_diag\n",
    "df_inf = pd.DataFrame()\n",
    "df_inf['cooks'] = cooks\n",
    "df_inf['leverage'] = leverage\n",
    "df_inf"
   ]
  },
  {
   "cell_type": "markdown",
   "id": "e2098e23",
   "metadata": {},
   "source": [
    "7. What are the top 5 influential points?"
   ]
  },
  {
   "cell_type": "code",
   "execution_count": 9,
   "id": "e8934a6d",
   "metadata": {},
   "outputs": [
    {
     "data": {
      "text/plain": [
       "3     0.391577\n",
       "2     0.253487\n",
       "5     0.134103\n",
       "15    0.124130\n",
       "10    0.094130\n",
       "Name: cooks, dtype: float64"
      ]
     },
     "execution_count": 9,
     "metadata": {},
     "output_type": "execute_result"
    }
   ],
   "source": [
    "#Influential Points \n",
    "influential = df_inf.nlargest(5, ['cooks'])\n",
    "influential[\"cooks\"]"
   ]
  },
  {
   "cell_type": "markdown",
   "id": "9ae54cd3",
   "metadata": {},
   "source": [
    "8. What are the top 5 high leverage points?"
   ]
  },
  {
   "cell_type": "code",
   "execution_count": 10,
   "id": "4f960593",
   "metadata": {},
   "outputs": [
    {
     "data": {
      "text/plain": [
       "0     0.112492\n",
       "5     0.079126\n",
       "3     0.064756\n",
       "2     0.060308\n",
       "10    0.060308\n",
       "Name: leverage, dtype: float64"
      ]
     },
     "execution_count": 10,
     "metadata": {},
     "output_type": "execute_result"
    }
   ],
   "source": [
    "#Leverage Points \n",
    "leverage = df_inf.nlargest(5, ['leverage'])\n",
    "leverage['leverage']"
   ]
  },
  {
   "cell_type": "markdown",
   "id": "bc604605",
   "metadata": {},
   "source": [
    "### 2-Use the “cereal_ds” dataset and the following predictors to build the models listed below. For each part, fit your final model and show the results. "
   ]
  },
  {
   "cell_type": "code",
   "execution_count": 11,
   "id": "ffd38a40",
   "metadata": {},
   "outputs": [],
   "source": [
    "c = pd.read_csv(\"Cereal_ds.csv\")"
   ]
  },
  {
   "cell_type": "code",
   "execution_count": 12,
   "id": "7c8e86d4",
   "metadata": {},
   "outputs": [
    {
     "name": "stdout",
     "output_type": "stream",
     "text": [
      "   features        VIF\n",
      "0    sugars   4.777619\n",
      "1       fat   2.280972\n",
      "2     fiber   2.765557\n",
      "3    weight  29.186006\n",
      "4  vitamins   2.923803\n",
      "5      cups  12.837896\n"
     ]
    }
   ],
   "source": [
    "from statsmodels.stats.outliers_influence import variance_inflation_factor\n",
    "\n",
    "X = c[['sugars', 'fat', 'fiber', 'weight', 'vitamins', 'cups' ]]\n",
    "vif_data = pd.DataFrame()\n",
    "vif_data[\"features\"] = X.columns\n",
    "  \n",
    "# calculating VIF for each feature\n",
    "vif_data[\"VIF\"] = [variance_inflation_factor(X.values, i)\n",
    "                          for i in range(len(X.columns))]\n",
    "  \n",
    "print(vif_data)"
   ]
  },
  {
   "cell_type": "markdown",
   "id": "29e2c444",
   "metadata": {},
   "source": [
    "We choose fat cause it has the least VIF value. "
   ]
  },
  {
   "cell_type": "code",
   "execution_count": 13,
   "id": "0baecfda",
   "metadata": {},
   "outputs": [],
   "source": [
    "# develp your regresion model\n",
    "res1 = ols('rating  ~ fat',data=c,).fit()"
   ]
  },
  {
   "cell_type": "code",
   "execution_count": 14,
   "id": "ff3390e7",
   "metadata": {},
   "outputs": [
    {
     "name": "stdout",
     "output_type": "stream",
     "text": [
      "                            OLS Regression Results                            \n",
      "==============================================================================\n",
      "Dep. Variable:                 rating   R-squared:                       0.168\n",
      "Model:                            OLS   Adj. R-squared:                  0.156\n",
      "Method:                 Least Squares   F-statistic:                     15.09\n",
      "Date:                Wed, 23 Mar 2022   Prob (F-statistic):           0.000219\n",
      "Time:                        20:15:30   Log-Likelihood:                -305.16\n",
      "No. Observations:                  77   AIC:                             614.3\n",
      "Df Residuals:                      75   BIC:                             619.0\n",
      "Df Model:                           1                                         \n",
      "Covariance Type:            nonrobust                                         \n",
      "==============================================================================\n",
      "                 coef    std err          t      P>|t|      [0.025      0.975]\n",
      "------------------------------------------------------------------------------\n",
      "Intercept     48.4522      2.093     23.150      0.000      44.283      52.622\n",
      "fat           -5.7124      1.470     -3.885      0.000      -8.642      -2.783\n",
      "==============================================================================\n",
      "Omnibus:                        7.525   Durbin-Watson:                   1.505\n",
      "Prob(Omnibus):                  0.023   Jarque-Bera (JB):                6.887\n",
      "Skew:                           0.659   Prob(JB):                       0.0319\n",
      "Kurtosis:                       3.641   Cond. No.                         2.65\n",
      "==============================================================================\n",
      "\n",
      "Notes:\n",
      "[1] Standard Errors assume that the covariance matrix of the errors is correctly specified.\n"
     ]
    }
   ],
   "source": [
    "print(res1.summary())"
   ]
  },
  {
   "cell_type": "markdown",
   "id": "d411f424",
   "metadata": {},
   "source": [
    "The model has high VIF when built with fat and rating"
   ]
  },
  {
   "cell_type": "markdown",
   "id": "28e8a8c0",
   "metadata": {},
   "source": [
    "Selecting the features with least VIF i.e fat and fiber "
   ]
  },
  {
   "cell_type": "code",
   "execution_count": 15,
   "id": "2b0a4672",
   "metadata": {},
   "outputs": [],
   "source": [
    "res2 = ols('rating  ~ fat+fiber',data=c,).fit()"
   ]
  },
  {
   "cell_type": "code",
   "execution_count": 16,
   "id": "cdcb280a",
   "metadata": {},
   "outputs": [
    {
     "name": "stdout",
     "output_type": "stream",
     "text": [
      "                            OLS Regression Results                            \n",
      "==============================================================================\n",
      "Dep. Variable:                 rating   R-squared:                       0.517\n",
      "Model:                            OLS   Adj. R-squared:                  0.504\n",
      "Method:                 Least Squares   F-statistic:                     39.59\n",
      "Date:                Wed, 23 Mar 2022   Prob (F-statistic):           2.04e-12\n",
      "Time:                        20:15:30   Log-Likelihood:                -284.21\n",
      "No. Observations:                  77   AIC:                             574.4\n",
      "Df Residuals:                      74   BIC:                             581.5\n",
      "Df Model:                           2                                         \n",
      "Covariance Type:            nonrobust                                         \n",
      "==============================================================================\n",
      "                 coef    std err          t      P>|t|      [0.025      0.975]\n",
      "------------------------------------------------------------------------------\n",
      "Intercept     41.0940      1.894     21.694      0.000      37.320      44.868\n",
      "fat           -5.8503      1.128     -5.187      0.000      -8.098      -3.603\n",
      "fiber          3.4843      0.476      7.316      0.000       2.535       4.433\n",
      "==============================================================================\n",
      "Omnibus:                        1.667   Durbin-Watson:                   1.727\n",
      "Prob(Omnibus):                  0.435   Jarque-Bera (JB):                1.696\n",
      "Skew:                           0.316   Prob(JB):                        0.428\n",
      "Kurtosis:                       2.642   Cond. No.                         6.11\n",
      "==============================================================================\n",
      "\n",
      "Notes:\n",
      "[1] Standard Errors assume that the covariance matrix of the errors is correctly specified.\n"
     ]
    }
   ],
   "source": [
    "print(res2.summary())"
   ]
  },
  {
   "cell_type": "code",
   "execution_count": 17,
   "id": "7448af8c",
   "metadata": {},
   "outputs": [],
   "source": [
    "res3 = ols('rating  ~ fat+fiber+sugars+weight+vitamins+cups',data=c,).fit()"
   ]
  },
  {
   "cell_type": "code",
   "execution_count": 18,
   "id": "659a8dbf",
   "metadata": {},
   "outputs": [
    {
     "name": "stdout",
     "output_type": "stream",
     "text": [
      "                            OLS Regression Results                            \n",
      "==============================================================================\n",
      "Dep. Variable:                 rating   R-squared:                       0.894\n",
      "Model:                            OLS   Adj. R-squared:                  0.885\n",
      "Method:                 Least Squares   F-statistic:                     98.67\n",
      "Date:                Wed, 23 Mar 2022   Prob (F-statistic):           3.78e-32\n",
      "Time:                        20:15:30   Log-Likelihood:                -225.72\n",
      "No. Observations:                  77   AIC:                             465.4\n",
      "Df Residuals:                      70   BIC:                             481.8\n",
      "Df Model:                           6                                         \n",
      "Covariance Type:            nonrobust                                         \n",
      "==============================================================================\n",
      "                 coef    std err          t      P>|t|      [0.025      0.975]\n",
      "------------------------------------------------------------------------------\n",
      "Intercept     61.0762      4.985     12.253      0.000      51.134      71.018\n",
      "fat           -3.5169      0.577     -6.098      0.000      -4.667      -2.367\n",
      "fiber          3.0970      0.285     10.878      0.000       2.529       3.665\n",
      "sugars        -1.7916      0.147    -12.182      0.000      -2.085      -1.498\n",
      "weight        -6.8019      4.633     -1.468      0.147     -16.043       2.439\n",
      "vitamins      -0.0868      0.026     -3.278      0.002      -0.140      -0.034\n",
      "cups           0.4195      2.827      0.148      0.882      -5.219       6.058\n",
      "==============================================================================\n",
      "Omnibus:                        1.754   Durbin-Watson:                   1.941\n",
      "Prob(Omnibus):                  0.416   Jarque-Bera (JB):                1.732\n",
      "Skew:                           0.292   Prob(JB):                        0.421\n",
      "Kurtosis:                       2.554   Cond. No.                         440.\n",
      "==============================================================================\n",
      "\n",
      "Notes:\n",
      "[1] Standard Errors assume that the covariance matrix of the errors is correctly specified.\n"
     ]
    }
   ],
   "source": [
    "print(res3.summary())"
   ]
  },
  {
   "cell_type": "code",
   "execution_count": 19,
   "id": "2678995e",
   "metadata": {},
   "outputs": [],
   "source": [
    "res4 = ols('rating  ~ fat+fiber+sugars+vitamins+cups',data=c,).fit()"
   ]
  },
  {
   "cell_type": "code",
   "execution_count": 20,
   "id": "f3917137",
   "metadata": {},
   "outputs": [
    {
     "name": "stdout",
     "output_type": "stream",
     "text": [
      "                            OLS Regression Results                            \n",
      "==============================================================================\n",
      "Dep. Variable:                 rating   R-squared:                       0.891\n",
      "Model:                            OLS   Adj. R-squared:                  0.883\n",
      "Method:                 Least Squares   F-statistic:                     116.1\n",
      "Date:                Wed, 23 Mar 2022   Prob (F-statistic):           9.53e-33\n",
      "Time:                        20:15:30   Log-Likelihood:                -226.89\n",
      "No. Observations:                  77   AIC:                             465.8\n",
      "Df Residuals:                      71   BIC:                             479.8\n",
      "Df Model:                           5                                         \n",
      "Covariance Type:            nonrobust                                         \n",
      "==============================================================================\n",
      "                 coef    std err          t      P>|t|      [0.025      0.975]\n",
      "------------------------------------------------------------------------------\n",
      "Intercept     55.2656      3.055     18.093      0.000      49.175      61.356\n",
      "fat           -3.6107      0.578     -6.249      0.000      -4.763      -2.459\n",
      "fiber          2.9748      0.274     10.838      0.000       2.428       3.522\n",
      "sugars        -1.8901      0.132    -14.329      0.000      -2.153      -1.627\n",
      "vitamins      -0.0999      0.025     -3.976      0.000      -0.150      -0.050\n",
      "cups           0.6851      2.844      0.241      0.810      -4.986       6.357\n",
      "==============================================================================\n",
      "Omnibus:                        2.367   Durbin-Watson:                   1.920\n",
      "Prob(Omnibus):                  0.306   Jarque-Bera (JB):                1.936\n",
      "Skew:                           0.248   Prob(JB):                        0.380\n",
      "Kurtosis:                       2.402   Cond. No.                         271.\n",
      "==============================================================================\n",
      "\n",
      "Notes:\n",
      "[1] Standard Errors assume that the covariance matrix of the errors is correctly specified.\n"
     ]
    }
   ],
   "source": [
    "print(res4.summary())"
   ]
  },
  {
   "cell_type": "markdown",
   "id": "4d148c6c",
   "metadata": {},
   "source": [
    "I have choosen the above variables because they have lower VIF compared to weight. "
   ]
  },
  {
   "cell_type": "code",
   "execution_count": 21,
   "id": "e2a8588e",
   "metadata": {},
   "outputs": [],
   "source": [
    "res5 = ols('rating  ~ fat+fiber+sugars+weight+vitamins+cups+shelf',data=c,).fit()"
   ]
  },
  {
   "cell_type": "code",
   "execution_count": 22,
   "id": "e6be3ba6",
   "metadata": {},
   "outputs": [
    {
     "name": "stdout",
     "output_type": "stream",
     "text": [
      "                            OLS Regression Results                            \n",
      "==============================================================================\n",
      "Dep. Variable:                 rating   R-squared:                       0.898\n",
      "Model:                            OLS   Adj. R-squared:                  0.887\n",
      "Method:                 Least Squares   F-statistic:                     86.62\n",
      "Date:                Wed, 23 Mar 2022   Prob (F-statistic):           1.22e-31\n",
      "Time:                        20:15:30   Log-Likelihood:                -224.40\n",
      "No. Observations:                  77   AIC:                             464.8\n",
      "Df Residuals:                      69   BIC:                             483.5\n",
      "Df Model:                           7                                         \n",
      "Covariance Type:            nonrobust                                         \n",
      "==============================================================================\n",
      "                 coef    std err          t      P>|t|      [0.025      0.975]\n",
      "------------------------------------------------------------------------------\n",
      "Intercept     57.7487      5.381     10.733      0.000      47.015      68.483\n",
      "fat           -3.7513      0.591     -6.351      0.000      -4.930      -2.573\n",
      "fiber          3.0076      0.288     10.454      0.000       2.434       3.582\n",
      "sugars        -1.8055      0.146    -12.376      0.000      -2.097      -1.514\n",
      "weight        -6.0682      4.612     -1.316      0.193     -15.268       3.132\n",
      "vitamins      -0.1036      0.028     -3.652      0.001      -0.160      -0.047\n",
      "cups           1.5171      2.887      0.525      0.601      -4.243       7.277\n",
      "shelf          1.2105      0.780      1.553      0.125      -0.345       2.766\n",
      "==============================================================================\n",
      "Omnibus:                        2.587   Durbin-Watson:                   1.941\n",
      "Prob(Omnibus):                  0.274   Jarque-Bera (JB):                2.485\n",
      "Skew:                           0.429   Prob(JB):                        0.289\n",
      "Kurtosis:                       2.804   Cond. No.                         463.\n",
      "==============================================================================\n",
      "\n",
      "Notes:\n",
      "[1] Standard Errors assume that the covariance matrix of the errors is correctly specified.\n"
     ]
    }
   ],
   "source": [
    "print(res5.summary())"
   ]
  },
  {
   "cell_type": "markdown",
   "id": "90188915",
   "metadata": {},
   "source": [
    "Because P > |t| is bigger than 0.05, shelf does not develop a good association with rating."
   ]
  }
 ],
 "metadata": {
  "kernelspec": {
   "display_name": "Python 3 (ipykernel)",
   "language": "python",
   "name": "python3"
  },
  "language_info": {
   "codemirror_mode": {
    "name": "ipython",
    "version": 3
   },
   "file_extension": ".py",
   "mimetype": "text/x-python",
   "name": "python",
   "nbconvert_exporter": "python",
   "pygments_lexer": "ipython3",
   "version": "3.9.7"
  }
 },
 "nbformat": 4,
 "nbformat_minor": 5
}
